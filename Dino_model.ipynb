{
  "nbformat": 4,
  "nbformat_minor": 0,
  "metadata": {
    "colab": {
      "name": "Dino_model.ipynb",
      "provenance": [],
      "collapsed_sections": []
    },
    "kernelspec": {
      "name": "python3",
      "display_name": "Python 3"
    },
    "language_info": {
      "name": "python"
    },
    "accelerator": "GPU"
  },
  "cells": [
    {
      "cell_type": "code",
      "metadata": {
        "id": "glZ5v3fJvp0T"
      },
      "source": [
        "!pip install numpy pandas tensorflow matplotlib seaborn split-folders "
      ],
      "execution_count": null,
      "outputs": []
    },
    {
      "cell_type": "code",
      "metadata": {
        "id": "N4GLqGYZv_HW"
      },
      "source": [
        "import numpy as np\n",
        "import pandas as pd\n",
        "import matplotlib.pyplot as plt\n",
        "import seaborn as sns\n",
        "import tensorflow as tf\n",
        "import keras\n",
        "from sklearn.metrics import confusion_matrix\n",
        "from sklearn.metrics import precision_recall_fscore_support\n",
        "from keras.models import Sequential\n",
        "from keras.layers import Conv2D, MaxPool2D, Flatten, Dense, Dropout\n",
        "from keras.callbacks import EarlyStopping\n",
        "from keras.preprocessing.image import ImageDataGenerator"
      ],
      "execution_count": 2,
      "outputs": []
    },
    {
      "cell_type": "code",
      "metadata": {
        "id": "JZvxlmm0hqOK"
      },
      "source": [
        "!unzip data.zip"
      ],
      "execution_count": null,
      "outputs": []
    },
    {
      "cell_type": "code",
      "metadata": {
        "colab": {
          "base_uri": "https://localhost:8080/"
        },
        "id": "bzjEM4Xjo5No",
        "outputId": "ea28731a-73a7-4315-cbb9-d21c0868be1e"
      },
      "source": [
        "import splitfolders\n",
        "\n",
        "splitfolders.fixed(\"data\", output=\"output\", seed=1337, fixed=(10), oversample=True, group_prefix=None)"
      ],
      "execution_count": 4,
      "outputs": [
        {
          "output_type": "stream",
          "name": "stderr",
          "text": [
            "Copying files: 985 files [00:00, 5820.74 files/s]\n",
            "Oversampling: 3 classes [00:00, 23.88 classes/s]\n"
          ]
        }
      ]
    },
    {
      "cell_type": "code",
      "metadata": {
        "colab": {
          "base_uri": "https://localhost:8080/"
        },
        "id": "-EzJeUdMA3UU",
        "outputId": "91aa16b3-7320-44c7-a85c-714efe0d4a74"
      },
      "source": [
        "image_size = (100,115)\n",
        "batch_size = 32\n",
        "\n",
        "train = ImageDataGenerator().flow_from_directory('output/train', target_size=image_size, class_mode='categorical', batch_size=batch_size, color_mode='grayscale')\n",
        "val = ImageDataGenerator().flow_from_directory('output/val', target_size=image_size, class_mode='categorical', batch_size=batch_size, color_mode='grayscale')"
      ],
      "execution_count": 5,
      "outputs": [
        {
          "output_type": "stream",
          "name": "stdout",
          "text": [
            "Found 1596 images belonging to 3 classes.\n",
            "Found 30 images belonging to 3 classes.\n"
          ]
        }
      ]
    },
    {
      "cell_type": "code",
      "metadata": {
        "colab": {
          "base_uri": "https://localhost:8080/"
        },
        "id": "-1aE37GBW_NJ",
        "outputId": "b08dd04e-d544-46b5-9f84-d61a32f37e04"
      },
      "source": [
        "train.class_indices"
      ],
      "execution_count": 6,
      "outputs": [
        {
          "output_type": "execute_result",
          "data": {
            "text/plain": [
              "{'down': 0, 'right': 1, 'up': 2}"
            ]
          },
          "metadata": {},
          "execution_count": 6
        }
      ]
    },
    {
      "cell_type": "code",
      "metadata": {
        "colab": {
          "base_uri": "https://localhost:8080/"
        },
        "id": "dRd-FKArhLve",
        "outputId": "96333259-5ee5-4fd0-c5e5-8b7f197600d0"
      },
      "source": [
        "train.image_shape"
      ],
      "execution_count": 7,
      "outputs": [
        {
          "output_type": "execute_result",
          "data": {
            "text/plain": [
              "(100, 115, 1)"
            ]
          },
          "metadata": {},
          "execution_count": 7
        }
      ]
    },
    {
      "cell_type": "code",
      "metadata": {
        "id": "jQLE4KeqjQzt"
      },
      "source": [
        "early_stopping = EarlyStopping(monitor='val_loss', patience=5)"
      ],
      "execution_count": 8,
      "outputs": []
    },
    {
      "cell_type": "code",
      "metadata": {
        "id": "TIShXQRRwYVG",
        "colab": {
          "base_uri": "https://localhost:8080/"
        },
        "outputId": "ea72960c-036b-41c3-c111-ebd36d962432"
      },
      "source": [
        "model = Sequential()\n",
        "\n",
        "model.add(Conv2D(128, 3, activation='relu', input_shape = train.image_shape))\n",
        "model.add(MaxPool2D(2))\n",
        "model.add(Conv2D(64, 3, activation='relu'))\n",
        "model.add(MaxPool2D(2))\n",
        "model.add(Conv2D(128, 3, activation='relu'))\n",
        "model.add(MaxPool2D(2))\n",
        "model.add(Conv2D(64, 3, activation='relu'))\n",
        "model.add(MaxPool2D(2))\n",
        "\n",
        "model.add(Conv2D(128, 3, activation='relu'))\n",
        "model.add(MaxPool2D(2))\n",
        "\n",
        "model.add(Flatten())\n",
        "model.add(Dense(32, activation='relu'))\n",
        "model.add(Dense(16, activation='relu'))\n",
        "model.add(Dense(3, activation='softmax'))\n",
        "\n",
        "model.compile(optimizer='adam', loss='categorical_crossentropy', metrics=['accuracy'])\n",
        "model.summary()"
      ],
      "execution_count": 9,
      "outputs": [
        {
          "output_type": "stream",
          "name": "stdout",
          "text": [
            "Model: \"sequential\"\n",
            "_________________________________________________________________\n",
            "Layer (type)                 Output Shape              Param #   \n",
            "=================================================================\n",
            "conv2d (Conv2D)              (None, 98, 113, 128)      1280      \n",
            "_________________________________________________________________\n",
            "max_pooling2d (MaxPooling2D) (None, 49, 56, 128)       0         \n",
            "_________________________________________________________________\n",
            "conv2d_1 (Conv2D)            (None, 47, 54, 64)        73792     \n",
            "_________________________________________________________________\n",
            "max_pooling2d_1 (MaxPooling2 (None, 23, 27, 64)        0         \n",
            "_________________________________________________________________\n",
            "conv2d_2 (Conv2D)            (None, 21, 25, 128)       73856     \n",
            "_________________________________________________________________\n",
            "max_pooling2d_2 (MaxPooling2 (None, 10, 12, 128)       0         \n",
            "_________________________________________________________________\n",
            "conv2d_3 (Conv2D)            (None, 8, 10, 64)         73792     \n",
            "_________________________________________________________________\n",
            "max_pooling2d_3 (MaxPooling2 (None, 4, 5, 64)          0         \n",
            "_________________________________________________________________\n",
            "conv2d_4 (Conv2D)            (None, 2, 3, 128)         73856     \n",
            "_________________________________________________________________\n",
            "max_pooling2d_4 (MaxPooling2 (None, 1, 1, 128)         0         \n",
            "_________________________________________________________________\n",
            "flatten (Flatten)            (None, 128)               0         \n",
            "_________________________________________________________________\n",
            "dense (Dense)                (None, 32)                4128      \n",
            "_________________________________________________________________\n",
            "dense_1 (Dense)              (None, 16)                528       \n",
            "_________________________________________________________________\n",
            "dense_2 (Dense)              (None, 3)                 51        \n",
            "=================================================================\n",
            "Total params: 301,283\n",
            "Trainable params: 301,283\n",
            "Non-trainable params: 0\n",
            "_________________________________________________________________\n"
          ]
        }
      ]
    },
    {
      "cell_type": "code",
      "metadata": {
        "colab": {
          "base_uri": "https://localhost:8080/"
        },
        "id": "ST3GkENEio-x",
        "outputId": "ce2e5197-c200-47ae-e222-cee5133874a1"
      },
      "source": [
        "training = model.fit(train, validation_data=val, epochs = 100, callbacks=[early_stopping])"
      ],
      "execution_count": 10,
      "outputs": [
        {
          "output_type": "stream",
          "name": "stdout",
          "text": [
            "Epoch 1/100\n",
            "50/50 [==============================] - 34s 77ms/step - loss: 1.0309 - accuracy: 0.5370 - val_loss: 0.4683 - val_accuracy: 0.6667\n",
            "Epoch 2/100\n",
            "50/50 [==============================] - 3s 55ms/step - loss: 0.2022 - accuracy: 0.9273 - val_loss: 0.3439 - val_accuracy: 0.9667\n",
            "Epoch 3/100\n",
            "50/50 [==============================] - 3s 56ms/step - loss: 0.0472 - accuracy: 0.9912 - val_loss: 0.0106 - val_accuracy: 1.0000\n",
            "Epoch 4/100\n",
            "50/50 [==============================] - 3s 55ms/step - loss: 0.0375 - accuracy: 0.9931 - val_loss: 0.5176 - val_accuracy: 0.9667\n",
            "Epoch 5/100\n",
            "50/50 [==============================] - 3s 55ms/step - loss: 0.0298 - accuracy: 0.9950 - val_loss: 0.0078 - val_accuracy: 1.0000\n",
            "Epoch 6/100\n",
            "50/50 [==============================] - 3s 55ms/step - loss: 0.0271 - accuracy: 0.9950 - val_loss: 3.1522 - val_accuracy: 0.9667\n",
            "Epoch 7/100\n",
            "50/50 [==============================] - 3s 56ms/step - loss: 0.0323 - accuracy: 0.9950 - val_loss: 2.9014 - val_accuracy: 0.9667\n",
            "Epoch 8/100\n",
            "50/50 [==============================] - 3s 55ms/step - loss: 0.0301 - accuracy: 0.9950 - val_loss: 2.9726 - val_accuracy: 0.9667\n",
            "Epoch 9/100\n",
            "50/50 [==============================] - 3s 56ms/step - loss: 0.0262 - accuracy: 0.9956 - val_loss: 2.7015 - val_accuracy: 0.9667\n",
            "Epoch 10/100\n",
            "50/50 [==============================] - 3s 56ms/step - loss: 0.0297 - accuracy: 0.9950 - val_loss: 0.9041 - val_accuracy: 0.9667\n"
          ]
        }
      ]
    },
    {
      "cell_type": "code",
      "metadata": {
        "id": "iTp93ZSHoe2O"
      },
      "source": [
        "model.save('model_file.h5')"
      ],
      "execution_count": 11,
      "outputs": []
    }
  ]
}